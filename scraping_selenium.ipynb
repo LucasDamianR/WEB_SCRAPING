{
 "cells": [
  {
   "cell_type": "code",
   "execution_count": 1,
   "id": "2ab0c4cf",
   "metadata": {},
   "outputs": [],
   "source": [
    "from selenium import webdriver\n",
    "from selenium.webdriver.support.ui import WebDriverWait\n",
    "from selenium.webdriver.common.by import By\n",
    "from selenium.webdriver.support import expected_conditions as EC\n",
    "from selenium.webdriver.chrome.options import Options\n",
    "import pandas as pd\n",
    "import datetime\n",
    "from selenium.webdriver.common.action_chains import ActionChains\n",
    "import os\n",
    "import time\n",
    "import numpy as np\n",
    "from selenium.webdriver.support.ui import Select\n",
    "\n",
    "\n",
    "class Driver:\n",
    "    '''\n",
    "    Basic abstraction\n",
    "    '''\n",
    "    def __init__(self,path,chrome_options,webdriver,headless=None):\n",
    "        \n",
    "        \n",
    "        user_agent = 'Mozilla/5.0 (X11; Linux x86_64) AppleWebKit/537.36 (KHTML, like Gecko) Chrome/60.0.3112.50 Safari/537.36'\n",
    "        \n",
    "        self.webdriver = webdriver\n",
    "        self.chrome_options = Options()\n",
    "        if headless:\n",
    "            self.chrome_options.add_argument(\"--headless\")\n",
    "        self.chrome_options.add_argument(f'user-agent={user_agent}')\n",
    "        self.chrome_options.add_argument(\"--window-size=1225x900\")\n",
    "        self.browser = self.webdriver.Chrome(path,options = chrome_options)\n",
    "        \n",
    "    def get(self,url):\n",
    "        '''\n",
    "        get response from the url sended\n",
    "        '''\n",
    "        return self.browser.get(url)\n",
    "    \n",
    "    def quit(self):\n",
    "        '''\n",
    "        Finish the process\n",
    "        '''\n",
    "        self.browser.quit()\n",
    "\n",
    "    @property\n",
    "    def current_url(self):\n",
    "        '''\n",
    "        browser.current_url\n",
    "        '''\n",
    "        return self.browser.current_url\n",
    "    \n",
    "    @property\n",
    "    def page_source(self):\n",
    "        '''\n",
    "        browser.page_source\n",
    "        '''\n",
    "        return self.browser.page_source\n",
    "    \n",
    "    def scroll_page(self,SCROLL_PAUSE_TIME=1):\n",
    "        '''\n",
    "        Scroll down to fully load the page\n",
    "        '''\n",
    "        while True:\n",
    "            last_height = self.browser.execute_script(\"return document.body.scrollHeight\")\n",
    "\n",
    "            #Scroll down to bottom\n",
    "            self.browser.execute_script(\"window.scrollTo(0, document.body.scrollHeight);\")\n",
    "\n",
    "            #Wait to load page\n",
    "            time.sleep(SCROLL_PAUSE_TIME)\n",
    "\n",
    "            #Calculate new scroll height and compare with last scroll height\n",
    "            new_height = self.browser.execute_script(\"return document.body.scrollHeight\")\n",
    "            if new_height == last_height:\n",
    "\n",
    "                # try again (can be removed)\n",
    "                self.browser.execute_script(\"window.scrollTo(0, document.body.scrollHeight);\")\n",
    "                # Wait to load page\n",
    "                time.sleep(SCROLL_PAUSE_TIME)\n",
    "                # Calculate new scroll height and compare with last scroll height\n",
    "                new_height = self.browser.execute_script(\"return document.body.scrollHeight\")\n",
    "                # check if the page height has remained the same\n",
    "                if new_height == last_height:\n",
    "                    #if so, you are done\n",
    "                    break\n",
    "\n",
    "                else:\n",
    "                    #if not, move on to the next loop\n",
    "                    last_height = new_height\n",
    "                    continue \n",
    "    \n",
    "    \n",
    "    \n",
    "    \n",
    "    def wait_elements_by(self,criteria,locator,timeout=10):\n",
    "        '''\n",
    "        Buscar elementos\n",
    "        \n",
    "        criteria:\n",
    "                    • CSS_SELECTOR\n",
    "                    • CLASS_NAME\n",
    "                    • ID\n",
    "                    • LINK_TEXT\n",
    "                    • PARTIAL_LINK_TEXT\n",
    "                    • TAG_NAME\n",
    "                    • XPATH\n",
    "                    \n",
    "        locator:\n",
    "                    ej: \n",
    "                    CLASS_NAME: price\n",
    "                    CSS_SELECTOR: .price.items\n",
    "                    TAG_NAME: button\n",
    "        '''\n",
    "        criteria = criteria.upper()\n",
    "        browser = self.browser\n",
    "        wait = WebDriverWait(browser,timeout)\n",
    "        if criteria == 'CSS_SELECTOR':\n",
    "            return wait.until(\n",
    "                EC.presence_of_all_elements_located((By.CSS_SELECTOR,locator)))\n",
    "        \n",
    "        elif criteria == 'CLASS_NAME':\n",
    "            return wait.until(\n",
    "                EC.presence_of_all_elements_located((By.CLASS_NAME,locator)))\n",
    "        \n",
    "        elif criteria == 'ID':\n",
    "            return wait.until(\n",
    "                EC.presence_of_all_elements_located((By.ID,locator)))\n",
    "        \n",
    "        elif criteria == 'LINK_TEXT':\n",
    "            return wait.until(\n",
    "                EC.presence_of_all_elements_located((By.LINK_TEXT,locator)))\n",
    "        \n",
    "        elif criteria == 'PARTIAL_LINK_TEXT':\n",
    "            return wait.until(\n",
    "                EC.presence_of_all_elements_located((By.PARTIAL_LINK_TEXT,locator)))\n",
    "        \n",
    "        elif criteria == 'TAG_NAME':\n",
    "            return wait.until(\n",
    "                EC.presence_of_all_elements_located((By.TAG_NAME,locator)))\n",
    "            \n",
    "        else:\n",
    "            return wait.until(\n",
    "                EC.presence_of_all_elements_located((By.XPATH,locator)))\n",
    "    \n",
    "    \n",
    "    def wait_element_by(self,criteria,locator,timeout=10):\n",
    "        '''\n",
    "        Buscar elemento\n",
    "        \n",
    "        criteria:\n",
    "                    • CSS_SELECTOR\n",
    "                    • CLASS_NAME\n",
    "                    • ID\n",
    "                    • LINK_TEXT\n",
    "                    • PARTIAL_LINK_TEXT\n",
    "                    • TAG_NAME\n",
    "                    • XPATH\n",
    "                    \n",
    "        locator:\n",
    "                    ej: \n",
    "                    CLASS_NAME: price\n",
    "                    CSS_SELECTOR: .price.items\n",
    "                    TAG_NAME: button\n",
    "        '''\n",
    "        criteria = criteria.upper()\n",
    "        browser = self.browser\n",
    "        wait = WebDriverWait(browser,timeout)\n",
    "\n",
    "        if criteria == 'CSS_SELECTOR':\n",
    "            return wait.until(\n",
    "                EC.presence_of_element_located((By.CSS_SELECTOR,locator)))\n",
    "        \n",
    "        elif criteria == 'CLASS_NAME':\n",
    "            return WebDriverWait(browser, timeout).until(\n",
    "                EC.presence_of_element_located((By.CLASS_NAME,locator)))\n",
    "        \n",
    "        elif criteria == 'ID':\n",
    "            return wait.until(\n",
    "                EC.presence_of_element_located((By.ID,locator)))\n",
    "        \n",
    "        elif criteria == 'LINK_TEXT':\n",
    "            return wait.until(\n",
    "                EC.presence_of_element_located((By.LINK_TEXT,locator)))\n",
    "        \n",
    "        elif criteria == 'PARTIAL_LINK_TEXT':\n",
    "            return wait.until(\n",
    "                EC.presence_of_element_located((By.PARTIAL_LINK_TEXT,locator)))\n",
    "        \n",
    "        elif criteria == 'TAG_NAME':\n",
    "            return wait.until(\n",
    "                EC.presence_of_element_located((By.TAG_NAME,locator)))\n",
    "            \n",
    "        else:\n",
    "            return wait.until(\n",
    "                EC.presence_of_element_located((By.XPATH,locator)))\n",
    "        \n",
    "    \n",
    "    def snapshot(self,save_as):\n",
    "        '''\n",
    "        browser.save_screenshot()\n",
    "        save_as : 'foo.png'\n",
    "        '''\n",
    "        self.browser.save_screenshot(save_as)\n",
    "        \n",
    "\n",
    "    def search_select(self,criteria,locator,timeout=10):\n",
    "        '''\n",
    "        Search elements select\n",
    "        \n",
    "        search_select(\"CLASS_NAME\",\"Items\",timeout=10)\n",
    "        '''\n",
    "        browser = self.browser\n",
    "        select = Select(wait_elements_by(self,criteria,locator,timeout))\n",
    "        \n",
    "        return select\n",
    "    \n",
    "        \n",
    "        \n",
    "        "
   ]
  },
  {
   "cell_type": "code",
   "execution_count": 2,
   "id": "e9814192",
   "metadata": {},
   "outputs": [],
   "source": [
    "##############################\n",
    "#            INIT            #\n",
    "##############################\n",
    "\n",
    "#your chromedriver path, in this case my chromedriver.exe stays in the same directory with the script\n",
    "path = os.path.abspath('chromedriver.exe')\n",
    "\n",
    "browser = Driver(path,Options(),webdriver)"
   ]
  },
  {
   "cell_type": "code",
   "execution_count": 3,
   "id": "2479285c",
   "metadata": {},
   "outputs": [],
   "source": [
    "##############################\n",
    "#           CASE 1           #\n",
    "##############################\n",
    "url = 'https://pythonscraping.com/pages/form.html'\n",
    "browser.get(url)"
   ]
  },
  {
   "cell_type": "code",
   "execution_count": 4,
   "id": "2c67b32a",
   "metadata": {},
   "outputs": [
    {
     "data": {
      "text/plain": [
       "'https://pythonscraping.com/pages/form.html'"
      ]
     },
     "execution_count": 4,
     "metadata": {},
     "output_type": "execute_result"
    }
   ],
   "source": [
    "browser.current_url"
   ]
  },
  {
   "cell_type": "code",
   "execution_count": 5,
   "id": "63cff3e1",
   "metadata": {},
   "outputs": [
    {
     "data": {
      "text/plain": [
       "'Tell me your name!'"
      ]
     },
     "execution_count": 5,
     "metadata": {},
     "output_type": "execute_result"
    }
   ],
   "source": [
    "browser.wait_element_by('TAG_NAME','h2').text"
   ]
  },
  {
   "cell_type": "code",
   "execution_count": 6,
   "id": "7b9c6264",
   "metadata": {},
   "outputs": [],
   "source": [
    "#get inputs\n",
    "inputs_tag = browser.wait_elements_by('TAG_NAME','input')\n",
    "for input_tag in inputs_tag:\n",
    "    if input_tag.get_attribute('name').lower() == 'firstname':\n",
    "        input_first_name = input_tag\n",
    "    elif input_tag.get_attribute('name').lower() == 'lastname':\n",
    "        input_last_name = input_tag\n",
    "    elif input_tag.get_attribute('type').lower() == 'submit':\n",
    "        input_submit = input_tag\n",
    "    else:\n",
    "        #Not matched\n",
    "        print(input_tag.text)        "
   ]
  },
  {
   "cell_type": "code",
   "execution_count": 7,
   "id": "7571000d",
   "metadata": {},
   "outputs": [],
   "source": [
    "#execute the actions\n",
    "input_first_name.send_keys('Lucas')\n",
    "input_last_name.send_keys('Damian')\n",
    "input_submit.click()"
   ]
  },
  {
   "cell_type": "code",
   "execution_count": 8,
   "id": "bf8012cb",
   "metadata": {},
   "outputs": [
    {
     "data": {
      "text/plain": [
       "'Hello there, Lucas Damian!'"
      ]
     },
     "execution_count": 8,
     "metadata": {},
     "output_type": "execute_result"
    }
   ],
   "source": [
    "#check the text\n",
    "browser.wait_element_by('TAG_NAME','body').text"
   ]
  },
  {
   "cell_type": "code",
   "execution_count": 9,
   "id": "41b64e0f",
   "metadata": {},
   "outputs": [],
   "source": [
    "##############################\n",
    "#           CASE 2           #\n",
    "##############################\n",
    "\n",
    "url = 'https://pythonscraping.com/pages/form2.html'\n",
    "browser.get(url)"
   ]
  },
  {
   "cell_type": "code",
   "execution_count": 10,
   "id": "f070a830",
   "metadata": {},
   "outputs": [
    {
     "data": {
      "text/plain": [
       "'Upload a file!'"
      ]
     },
     "execution_count": 10,
     "metadata": {},
     "output_type": "execute_result"
    }
   ],
   "source": [
    "browser.wait_element_by('TAG_NAME','h2').text"
   ]
  },
  {
   "cell_type": "code",
   "execution_count": 11,
   "id": "5799256e",
   "metadata": {},
   "outputs": [],
   "source": [
    "#get inputs\n",
    "inputs_tag = browser.wait_elements_by('TAG_NAME','input')\n",
    "for input_tag in inputs_tag:\n",
    "    if input_tag.get_attribute('type').lower() == 'file':\n",
    "        input_file = input_tag\n",
    "    elif input_tag.get_attribute('type').lower() == 'submit':\n",
    "        input_submit = input_tag\n",
    "    else:\n",
    "        #Not matched\n",
    "        print(input_tag.text)"
   ]
  },
  {
   "cell_type": "code",
   "execution_count": 12,
   "id": "a3e02d97",
   "metadata": {},
   "outputs": [],
   "source": [
    "#The path of the file to upload\n",
    "path_file = os.path.abspath('foo.jpg')\n",
    "input_file.send_keys(path_file)"
   ]
  },
  {
   "cell_type": "code",
   "execution_count": 13,
   "id": "73c1a9f4",
   "metadata": {},
   "outputs": [],
   "source": [
    "input_submit.click()"
   ]
  },
  {
   "cell_type": "code",
   "execution_count": 14,
   "id": "0360a48d",
   "metadata": {},
   "outputs": [
    {
     "data": {
      "text/plain": [
       "'Sorry, there was an error uploading your file.'"
      ]
     },
     "execution_count": 14,
     "metadata": {},
     "output_type": "execute_result"
    }
   ],
   "source": [
    "browser.wait_element_by('TAG_NAME','body').text"
   ]
  },
  {
   "cell_type": "code",
   "execution_count": 15,
   "id": "1b73a6a9",
   "metadata": {},
   "outputs": [],
   "source": [
    "##############################\n",
    "#           CASE 3           #\n",
    "##############################\n",
    "\n",
    "url = 'https://pythonscraping.com/pages/page3.html'\n",
    "browser.get(url)"
   ]
  },
  {
   "cell_type": "code",
   "execution_count": 16,
   "id": "bc8805fb",
   "metadata": {},
   "outputs": [
    {
     "data": {
      "text/plain": [
       "'Totally Normal Gifts'"
      ]
     },
     "execution_count": 16,
     "metadata": {},
     "output_type": "execute_result"
    }
   ],
   "source": [
    "browser.wait_element_by('TAG_NAME','h1').text"
   ]
  },
  {
   "cell_type": "code",
   "execution_count": 17,
   "id": "3b648c1f",
   "metadata": {},
   "outputs": [
    {
     "name": "stdout",
     "output_type": "stream",
     "text": [
      "Here is a collection of totally normal, totally reasonable gifts that your friends are sure to love! Our collection is hand-curated by well-paid, free-range Tibetan monks.\n",
      "We haven't figured out how to make online shopping carts yet, but you can send us a check to:\n",
      "123 Main St.\n",
      "Abuja, Nigeria\n",
      "We will then send your totally amazing gift, pronto! Please include an extra $5.00 for gift wrapping.\n"
     ]
    }
   ],
   "source": [
    "print(browser.wait_element_by('ID','content').text)"
   ]
  },
  {
   "cell_type": "code",
   "execution_count": 18,
   "id": "980142d0",
   "metadata": {},
   "outputs": [
    {
     "data": {
      "text/html": [
       "<div>\n",
       "<style scoped>\n",
       "    .dataframe tbody tr th:only-of-type {\n",
       "        vertical-align: middle;\n",
       "    }\n",
       "\n",
       "    .dataframe tbody tr th {\n",
       "        vertical-align: top;\n",
       "    }\n",
       "\n",
       "    .dataframe thead th {\n",
       "        text-align: right;\n",
       "    }\n",
       "</style>\n",
       "<table border=\"1\" class=\"dataframe\">\n",
       "  <thead>\n",
       "    <tr style=\"text-align: right;\">\n",
       "      <th></th>\n",
       "      <th>Item Title</th>\n",
       "      <th>Description</th>\n",
       "      <th>Cost</th>\n",
       "      <th>Image</th>\n",
       "    </tr>\n",
       "  </thead>\n",
       "  <tbody>\n",
       "    <tr>\n",
       "      <th>0</th>\n",
       "      <td>Vegetable Basket</td>\n",
       "      <td>This vegetable basket is the perfect gift for ...</td>\n",
       "      <td>$15.00</td>\n",
       "      <td>NaN</td>\n",
       "    </tr>\n",
       "    <tr>\n",
       "      <th>1</th>\n",
       "      <td>Russian Nesting Dolls</td>\n",
       "      <td>Hand-painted by trained monkeys, these exquisi...</td>\n",
       "      <td>$10,000.52</td>\n",
       "      <td>NaN</td>\n",
       "    </tr>\n",
       "    <tr>\n",
       "      <th>2</th>\n",
       "      <td>Fish Painting</td>\n",
       "      <td>If something seems fishy about this painting, ...</td>\n",
       "      <td>$10,005.00</td>\n",
       "      <td>NaN</td>\n",
       "    </tr>\n",
       "    <tr>\n",
       "      <th>3</th>\n",
       "      <td>Dead Parrot</td>\n",
       "      <td>This is an ex-parrot! Or maybe he's only resting?</td>\n",
       "      <td>$0.50</td>\n",
       "      <td>NaN</td>\n",
       "    </tr>\n",
       "    <tr>\n",
       "      <th>4</th>\n",
       "      <td>Mystery Box</td>\n",
       "      <td>If you love suprises, this mystery box is for ...</td>\n",
       "      <td>$1.50</td>\n",
       "      <td>NaN</td>\n",
       "    </tr>\n",
       "  </tbody>\n",
       "</table>\n",
       "</div>"
      ],
      "text/plain": [
       "              Item Title                                        Description  \\\n",
       "0       Vegetable Basket  This vegetable basket is the perfect gift for ...   \n",
       "1  Russian Nesting Dolls  Hand-painted by trained monkeys, these exquisi...   \n",
       "2          Fish Painting  If something seems fishy about this painting, ...   \n",
       "3            Dead Parrot  This is an ex-parrot! Or maybe he's only resting?   \n",
       "4            Mystery Box  If you love suprises, this mystery box is for ...   \n",
       "\n",
       "         Cost  Image  \n",
       "0      $15.00    NaN  \n",
       "1  $10,000.52    NaN  \n",
       "2  $10,005.00    NaN  \n",
       "3       $0.50    NaN  \n",
       "4       $1.50    NaN  "
      ]
     },
     "execution_count": 18,
     "metadata": {},
     "output_type": "execute_result"
    }
   ],
   "source": [
    "html = browser.wait_element_by('ID','giftList')\n",
    "table_html = html.get_attribute('outerHTML')\n",
    "\n",
    "#The fast way with pandas\n",
    "df_list = pd.read_html(table_html)\n",
    "df = df_list[0]\n",
    "df"
   ]
  },
  {
   "cell_type": "code",
   "execution_count": 19,
   "id": "d267fad2",
   "metadata": {},
   "outputs": [],
   "source": [
    "#The long and complete way with selenium\n",
    "\n",
    "#get elements from table\n",
    "gifts = html.find_elements_by_class_name('gift')\n",
    "#get headers from table\n",
    "headers = [i.text for i in html.find_elements_by_tag_name('th')]\n",
    "\n",
    "results = []\n",
    "for gift in gifts:\n",
    "    tr_list = []\n",
    "    for td in gift.find_elements_by_tag_name('td'):\n",
    "        \n",
    "        if td.text == '':\n",
    "            #get src from image\n",
    "            src = td.find_element_by_tag_name('img').get_attribute('src')\n",
    "            tr_list.append(src)\n",
    "        else:\n",
    "            tr_list.append(td.text)\n",
    "    results.append(tr_list)"
   ]
  },
  {
   "cell_type": "code",
   "execution_count": 20,
   "id": "352967d2",
   "metadata": {},
   "outputs": [
    {
     "data": {
      "text/html": [
       "<div>\n",
       "<style scoped>\n",
       "    .dataframe tbody tr th:only-of-type {\n",
       "        vertical-align: middle;\n",
       "    }\n",
       "\n",
       "    .dataframe tbody tr th {\n",
       "        vertical-align: top;\n",
       "    }\n",
       "\n",
       "    .dataframe thead th {\n",
       "        text-align: right;\n",
       "    }\n",
       "</style>\n",
       "<table border=\"1\" class=\"dataframe\">\n",
       "  <thead>\n",
       "    <tr style=\"text-align: right;\">\n",
       "      <th></th>\n",
       "      <th>Item Title</th>\n",
       "      <th>Description</th>\n",
       "      <th>Cost</th>\n",
       "      <th>Image</th>\n",
       "    </tr>\n",
       "  </thead>\n",
       "  <tbody>\n",
       "    <tr>\n",
       "      <th>0</th>\n",
       "      <td>Vegetable Basket</td>\n",
       "      <td>This vegetable basket is the perfect gift for ...</td>\n",
       "      <td>$15.00</td>\n",
       "      <td>https://pythonscraping.com/img/gifts/img1.jpg</td>\n",
       "    </tr>\n",
       "    <tr>\n",
       "      <th>1</th>\n",
       "      <td>Russian Nesting Dolls</td>\n",
       "      <td>Hand-painted by trained monkeys, these exquisi...</td>\n",
       "      <td>$10,000.52</td>\n",
       "      <td>https://pythonscraping.com/img/gifts/img2.jpg</td>\n",
       "    </tr>\n",
       "    <tr>\n",
       "      <th>2</th>\n",
       "      <td>Fish Painting</td>\n",
       "      <td>If something seems fishy about this painting, ...</td>\n",
       "      <td>$10,005.00</td>\n",
       "      <td>https://pythonscraping.com/img/gifts/img3.jpg</td>\n",
       "    </tr>\n",
       "    <tr>\n",
       "      <th>3</th>\n",
       "      <td>Dead Parrot</td>\n",
       "      <td>This is an ex-parrot! Or maybe he's only resting?</td>\n",
       "      <td>$0.50</td>\n",
       "      <td>https://pythonscraping.com/img/gifts/img4.jpg</td>\n",
       "    </tr>\n",
       "    <tr>\n",
       "      <th>4</th>\n",
       "      <td>Mystery Box</td>\n",
       "      <td>If you love suprises, this mystery box is for ...</td>\n",
       "      <td>$1.50</td>\n",
       "      <td>https://pythonscraping.com/img/gifts/img6.jpg</td>\n",
       "    </tr>\n",
       "  </tbody>\n",
       "</table>\n",
       "</div>"
      ],
      "text/plain": [
       "              Item Title                                        Description  \\\n",
       "0       Vegetable Basket  This vegetable basket is the perfect gift for ...   \n",
       "1  Russian Nesting Dolls  Hand-painted by trained monkeys, these exquisi...   \n",
       "2          Fish Painting  If something seems fishy about this painting, ...   \n",
       "3            Dead Parrot  This is an ex-parrot! Or maybe he's only resting?   \n",
       "4            Mystery Box  If you love suprises, this mystery box is for ...   \n",
       "\n",
       "         Cost                                          Image  \n",
       "0      $15.00  https://pythonscraping.com/img/gifts/img1.jpg  \n",
       "1  $10,000.52  https://pythonscraping.com/img/gifts/img2.jpg  \n",
       "2  $10,005.00  https://pythonscraping.com/img/gifts/img3.jpg  \n",
       "3       $0.50  https://pythonscraping.com/img/gifts/img4.jpg  \n",
       "4       $1.50  https://pythonscraping.com/img/gifts/img6.jpg  "
      ]
     },
     "execution_count": 20,
     "metadata": {},
     "output_type": "execute_result"
    }
   ],
   "source": [
    "#Results\n",
    "df = pd.DataFrame(data=results, columns=headers)\n",
    "df"
   ]
  },
  {
   "cell_type": "code",
   "execution_count": 21,
   "id": "d0fedf99",
   "metadata": {},
   "outputs": [
    {
     "name": "stdout",
     "output_type": "stream",
     "text": [
      "Clicked\n"
     ]
    }
   ],
   "source": [
    "##############################\n",
    "#           CASE 4           #\n",
    "##############################\n",
    "\n",
    "url = 'https://pythonscraping.com/pages/javascript/ajaxDemo.html'\n",
    "browser.get(url)\n",
    "\n",
    "for _ in range(5):\n",
    "    try:\n",
    "        loaded_button = browser.wait_element_by('ID','loadedButton',timeout=30)\n",
    "        loaded_button.click()\n",
    "        print('Clicked')\n",
    "        break\n",
    "    except:\n",
    "        print('Try again..')\n"
   ]
  },
  {
   "cell_type": "code",
   "execution_count": 22,
   "id": "ced65647",
   "metadata": {},
   "outputs": [],
   "source": [
    "##############################\n",
    "#           CASE 5           #\n",
    "##############################\n",
    "\n",
    "#LOGIN WITH RECAPTCHA\n",
    "url = 'https://pythonscraping.com/pages/recaptcha/humansonly.html'\n",
    "\n",
    "browser.get(url)"
   ]
  },
  {
   "cell_type": "code",
   "execution_count": 23,
   "id": "428306bc",
   "metadata": {},
   "outputs": [],
   "source": [
    "txt_name = browser.wait_element_by('ID','name')\n",
    "txt_name.send_keys('Lucas')\n",
    "txt_color = browser.wait_element_by('ID','color')\n",
    "txt_color.send_keys('Black')\n",
    "cb_captcha = browser.wait_element_by('TAG_NAME','iframe')\n",
    "cb_captcha.click()\n",
    "btn_submit = browser.wait_element_by('ID','submit')\n",
    "time.sleep(2)\n",
    "btn_submit.click()\n"
   ]
  },
  {
   "cell_type": "code",
   "execution_count": 24,
   "id": "00d48199",
   "metadata": {},
   "outputs": [],
   "source": [
    "body = browser.wait_element_by('TAG_NAME','body')"
   ]
  },
  {
   "cell_type": "code",
   "execution_count": 25,
   "id": "50d3d582",
   "metadata": {},
   "outputs": [
    {
     "name": "stdout",
     "output_type": "stream",
     "text": [
      "Here's the results!\n",
      "Array ( [name] => Lucas [color] => Black [g-recaptcha-response] => 03AGdBq25EYNiL6O35jBP_U7JbVc64ZwGoozWadKlTgtrOIPK93r0x3zYURFgNO0hYtwRpY2ulGhfKfMfVyQmIsH4IYR_pi1gHkNKelLLybC1a45RBMn4vi6xLFmOXUXc6BpCV7rQtpCOU7DqzhiAZOq6ruoh-nd9PumrNW4bwrofHVqiToFNQadtpuVXTCpj1uSydsJMv1Tc65CmIr62AFqIsM-LF0BEbf81jlOE2WgZ2wPqZ0WUdgGViKhzzNMPSOykl04_99oLFDWDCraBz-cMaj6kixpZS2uvr_kVwx2V-tvjfaM_NA66_UhJC9m244XDOlHKVGhapcpFM-fJcC8_2NJu9dSfSeYCDSPJnpjgAkZW1TXNy2JbrLEGfDcoyutQzpwCU1Tfix2LtNkRmsFnAAka8E98sBSqYrpLgd9XZGDqLzOcjQ1CL7w42hGn35yoRrNOfu3XZhDOIIMAqvQOTT3xweTz3mQ )\n",
      "URL is:\n",
      "https://www.google.com/recaptcha/api/siteverify?secret=6Lfq-wETAAAAAGV2pROuCPCjn_9M1JWjjO_Pgdqp&response=03AGdBq25EYNiL6O35jBP_U7JbVc64ZwGoozWadKlTgtrOIPK93r0x3zYURFgNO0hYtwRpY2ulGhfKfMfVyQmIsH4IYR_pi1gHkNKelLLybC1a45RBMn4vi6xLFmOXUXc6BpCV7rQtpCOU7DqzhiAZOq6ruoh-nd9PumrNW4bwrofHVqiToFNQadtpuVXTCpj1uSydsJMv1Tc65CmIr62AFqIsM-LF0BEbf81jlOE2WgZ2wPqZ0WUdgGViKhzzNMPSOykl04_99oLFDWDCraBz-cMaj6kixpZS2uvr_kVwx2V-tvjfaM_NA66_UhJC9m244XDOlHKVGhapcpFM-fJcC8_2NJu9dSfSeYCDSPJnpjgAkZW1TXNy2JbrLEGfDcoyutQzpwCU1Tfix2LtNkRmsFnAAka8E98sBSqYrpLgd9XZGDqLzOcjQ1CL7w42hGn35yoRrNOfu3XZhDOIIMAqvQOTT3xweTz3mQ&remoteip=190.221.147.74\n",
      "Response from Google\n",
      "{ \"success\": true, \"challenge_ts\": \"2022-01-31T19:14:07Z\", \"hostname\": \"pythonscraping.com\" }\n"
     ]
    }
   ],
   "source": [
    "print(body.text)"
   ]
  },
  {
   "cell_type": "code",
   "execution_count": 26,
   "id": "19bdc0ec",
   "metadata": {},
   "outputs": [],
   "source": [
    "browser.quit()"
   ]
  }
 ],
 "metadata": {
  "kernelspec": {
   "display_name": "Python 3",
   "language": "python",
   "name": "python3"
  },
  "language_info": {
   "codemirror_mode": {
    "name": "ipython",
    "version": 3
   },
   "file_extension": ".py",
   "mimetype": "text/x-python",
   "name": "python",
   "nbconvert_exporter": "python",
   "pygments_lexer": "ipython3",
   "version": "3.8.8"
  }
 },
 "nbformat": 4,
 "nbformat_minor": 5
}
